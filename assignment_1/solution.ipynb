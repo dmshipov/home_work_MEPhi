{
  "nbformat": 4,
  "nbformat_minor": 0,
  "metadata": {
    "colab": {
      "provenance": []
    },
    "kernelspec": {
      "name": "python3",
      "display_name": "Python 3"
    },
    "language_info": {
      "name": "python"
    }
  },
  "cells": [
    {
      "cell_type": "markdown",
      "source": [
        "## Описание проекта: Турнир ботов в игре \"Камень-ножницы-бумага\"\n",
        "\n",
        "###Цель проекта:\n",
        "\n",
        "Разработать и сравнить различные стратегии для игры \"Камень-ножницы-бумага\" с помощью агентов машинного обучения.  Цель - определить, какая стратегия оказывается наиболее эффективной в  турнирном формате, где агенты играют друг против друга.\n",
        "\n",
        "###Описание задачи:\n",
        "\n",
        "Игра \"Камень-ножницы-бумага\" - классическая игра, где два игрока одновременно выбирают один из трех вариантов: \"камень\", \"ножницы\" или \"бумага\".  Победитель определяется по следующим правилам:\n",
        "\n",
        "* Камень побеждает Ножницы\n",
        "* Ножницы побеждают Бумагу\n",
        "* Бумага побеждает Камень\n",
        "\n",
        "В этом проекте мы будем создавать агентов, которые играют в \"Камень-ножницы-бумага\", используя разные стратегии.  Каждый агент будет представлен функцией, которая принимает на вход информацию о предыдущих ходах и выдает  предсказанный следующий ход.  \n",
        "\n",
        "### Этапы проекта:\n",
        "\n",
        "1. Разработка агентов:  Будут реализованы следующие агенты:\n",
        "\n",
        "     \"Одержимый камнем\" (rock_agent.py):  всегда играет \"камень\".\n",
        "     \"Циклический\" (cyclic_agent.py):  меняет ход по кругу: камень-ножницы-бумага.\n",
        "     \"Повторяющий противника\" (copy_opponent.py):  повторяет ход противника на предыдущем шаге.\n",
        "     \"Повторяющий бумагу\" (paper_agent.py):  постоянно выбирает \"бумагу\".\n",
        "     \"Реактивный\" (reactionary_agent.py):  выбирает действие, которое побеждает последнее действие противника.\n",
        "      \"Противоречивый\" (opposite_agent.py):  выбирает действие, противоположное последнему действию противника.\n",
        "     \"Случайный\" (random_agent.py):  выбирает ход случайным образом.\n",
        "     \"Переключающийся\" (alternating_agent.py):  переключает ход между \"камнем\"  и  \"бумагой\".\n",
        "     \"Ножницы\" (scissors_agent.py):  постоянно выбирает \"ножницы\".\n",
        "\n",
        "2. Проведение турнира:  Агенты будут соревноваться друг с другом в турнире.  Результаты  будут представлены в виде матрицы, где каждая ячейка показывает, сколько раз один агент победил другого.\n",
        "\n",
        "3. Анализ результатов:  Результаты турнира будут проанализированы, чтобы определить, какие стратегии наиболее эффективны.\n",
        "\n",
        "### Ожидаемые результаты:\n",
        "\n",
        "Ожидается, что  более сложные  агенты, такие как \"Реактивный\",  \"Противоречивый\"  и  \"Случайный\",  будут показывать лучшие результаты,  чем  более  простые  агенты,  такие  как  \"Одержимый камнем\"  и  \"Циклический\".  Однако,  необходимо  учитывать,  что  стратегия  \"Повторяющий бумагу\"  может  оказаться  неплохим  выбором  в  ситуации,  когда  противник  использует  преимущественно  \"камень\"  или  \"ножницы\".\n",
        "\n",
        "### Заключение:\n",
        "\n",
        "Этот проект поможет изучить различные стратегии для игры \"Камень-ножницы-бумага\",  а также  продемонстрирует  основы  разработки  и  сравнения  агентов  машинного обучения.  Результаты проекта могут быть использованы для  дальнейшего  исследования  и  разработки  более  сложных  стратегий  в  играх  с  неполной  информацией."
      ],
      "metadata": {
        "id": "uTjnyIcEIHCn"
      }
    },
    {
      "cell_type": "code",
      "execution_count": 1,
      "metadata": {
        "id": "MXXTuy_o0sjk"
      },
      "outputs": [],
      "source": [
        "!pip install -q -U kaggle_environments"
      ]
    },
    {
      "cell_type": "code",
      "source": [
        "import numpy as np\n",
        "import pandas as pd\n",
        "import random\n",
        "\n",
        "import matplotlib.pyplot as plt\n",
        "import seaborn as sns\n",
        "\n",
        "from kaggle_environments import make, evaluate"
      ],
      "metadata": {
        "id": "yz23vWHD0wcj"
      },
      "execution_count": 2,
      "outputs": []
    },
    {
      "cell_type": "markdown",
      "source": [
        "Опишем поведение агента: \"Одержимый камнем\"\n",
        "\n",
        "Этот агент всегда играет \"камень\""
      ],
      "metadata": {
        "id": "EnfFTiPEToTC"
      }
    },
    {
      "cell_type": "code",
      "source": [
        "%%writefile rock_agent.py\n",
        "\n",
        "#Example of the simple agent\n",
        "#0 - rock\n",
        "#1 - paper\n",
        "#2 - scissors\n",
        "def rock_agent(observation, configuration):\n",
        "    return 0\n"
      ],
      "metadata": {
        "colab": {
          "base_uri": "https://localhost:8080/"
        },
        "id": "wtupD1TBTX8c",
        "outputId": "788856ea-d340-4236-be30-2971abc1d84d"
      },
      "execution_count": 3,
      "outputs": [
        {
          "output_type": "stream",
          "name": "stdout",
          "text": [
            "Overwriting rock_agent.py\n"
          ]
        },
        {
          "output_type": "stream",
          "name": "stderr",
          "text": [
            "/usr/local/lib/python3.10/dist-packages/ipykernel/ipkernel.py:283: DeprecationWarning: `should_run_async` will not call `transform_cell` automatically in the future. Please pass the result to `transformed_cell` argument and any exception that happen during thetransform in `preprocessing_exc_tuple` in IPython 7.17 and above.\n",
            "  and should_run_async(code)\n"
          ]
        }
      ]
    },
    {
      "cell_type": "markdown",
      "source": [
        "Опишем поведение агента: \"Циклический\"\n",
        "\n",
        "Этот агент меняет ход по кругу: камень, ножницы, бумага."
      ],
      "metadata": {
        "id": "_p0yayHNURzH"
      }
    },
    {
      "cell_type": "code",
      "source": [
        "%%writefile cyclic_agent.py\n",
        "\n",
        "#Example\n",
        "def cyclic_agent(observation, configuration):\n",
        "    return (observation.step % configuration.signs)"
      ],
      "metadata": {
        "colab": {
          "base_uri": "https://localhost:8080/"
        },
        "id": "OuT0xrs4TYdP",
        "outputId": "44bbecc6-342c-438e-b58f-dbe774297517"
      },
      "execution_count": 4,
      "outputs": [
        {
          "output_type": "stream",
          "name": "stdout",
          "text": [
            "Overwriting cyclic_agent.py\n"
          ]
        }
      ]
    },
    {
      "cell_type": "markdown",
      "source": [
        "Опишем поведение агента: \"Повторяющий противника\"\n",
        "\n",
        "Этот агент повторяет ход противника на предыдущем шаге.\n"
      ],
      "metadata": {
        "id": "cHtB9tbuURHy"
      }
    },
    {
      "cell_type": "code",
      "source": [
        "%%writefile copy_opponent.py\n",
        "\n",
        "#Example\n",
        "def copy_opponent(observation, configuration):\n",
        "    #in case we have information about opponent last move\n",
        "    if observation.step > 0:\n",
        "        return observation.lastOpponentAction\n",
        "    #initial step\n",
        "    else:\n",
        "        return random.randrange(0, configuration.signs)"
      ],
      "metadata": {
        "colab": {
          "base_uri": "https://localhost:8080/"
        },
        "id": "VWhZspIvUj5n",
        "outputId": "8f3aedb4-43c3-4681-b8fc-2a615389c22f"
      },
      "execution_count": 5,
      "outputs": [
        {
          "output_type": "stream",
          "name": "stdout",
          "text": [
            "Overwriting copy_opponent.py\n"
          ]
        }
      ]
    },
    {
      "cell_type": "markdown",
      "source": [
        "Опишем поведение агента: \"Повторяющий бумагу\"\n",
        "\n",
        "Этот агент повторяет всегда бумагу."
      ],
      "metadata": {
        "id": "Tfv2J7WlrM6a"
      }
    },
    {
      "cell_type": "code",
      "source": [
        "%%writefile paper_agent.py\n",
        "def paper_agent(observation, configuration):\n",
        "    return 1  # всегда играет \"бумагу\""
      ],
      "metadata": {
        "colab": {
          "base_uri": "https://localhost:8080/"
        },
        "id": "GVaHyycHrELd",
        "outputId": "ea66276e-1bde-4402-f5a4-1f0c67a2f318"
      },
      "execution_count": 6,
      "outputs": [
        {
          "output_type": "stream",
          "name": "stdout",
          "text": [
            "Overwriting paper_agent.py\n"
          ]
        }
      ]
    },
    {
      "cell_type": "markdown",
      "source": [
        "Опишем поведение агента: \"Реактивный\"\n",
        "Этот агент выбирает действие, которое побеждает последнее действие противника"
      ],
      "metadata": {
        "id": "CLuu2xd78gK_"
      }
    },
    {
      "cell_type": "code",
      "source": [
        "%%writefile reactionary_agent.py\n",
        "last_react_action = None\n",
        "def reactionary_agent(observation, configuration):\n",
        "    global last_react_action\n",
        "    if observation.step == 0:\n",
        "        last_react_action = random.randrange(0, configuration.signs)\n",
        "    elif get_score(last_react_action, observation.lastOpponentAction) <= 1:\n",
        "        last_react_action = (observation.lastOpponentAction + 1) % configuration.signs\n",
        "    return last_react_action"
      ],
      "metadata": {
        "colab": {
          "base_uri": "https://localhost:8080/"
        },
        "id": "uTZqDLo09_rG",
        "outputId": "c8f655b4-bbfe-4992-e7fc-011afcccb0df"
      },
      "execution_count": 7,
      "outputs": [
        {
          "output_type": "stream",
          "name": "stdout",
          "text": [
            "Overwriting reactionary_agent.py\n"
          ]
        }
      ]
    },
    {
      "cell_type": "markdown",
      "source": [
        "Опишем поведение агента: \"Противоречивый\"\n",
        "Этот агент выбирает действие, противоположное последнему действию противника"
      ],
      "metadata": {
        "id": "OQalCDoY-ERz"
      }
    },
    {
      "cell_type": "code",
      "source": [
        "%%writefile opposite_agent.py\n",
        "def opposite_agent(observation, configuration):\n",
        "    if observation.step == 0:\n",
        "        return random.randrange(0, configuration.signs)\n",
        "    return (observation.lastOpponentAction + 1) % configuration.signs\n"
      ],
      "metadata": {
        "colab": {
          "base_uri": "https://localhost:8080/"
        },
        "id": "IBjcFa5W8lbS",
        "outputId": "93364e99-e1f2-4834-bb35-dbf93bfb911a"
      },
      "execution_count": 8,
      "outputs": [
        {
          "output_type": "stream",
          "name": "stdout",
          "text": [
            "Overwriting opposite_agent.py\n"
          ]
        }
      ]
    },
    {
      "cell_type": "markdown",
      "source": [
        "Опишем поведение агента: \"Случайный\"\n",
        "Этот агент выбирает случайное действие"
      ],
      "metadata": {
        "id": "tBR2LGS_-kzr"
      }
    },
    {
      "cell_type": "code",
      "source": [
        "%%writefile random_agent.py\n",
        "def random_agent(observation, configuration):\n",
        "    return random.randrange(0, configuration.signs)"
      ],
      "metadata": {
        "colab": {
          "base_uri": "https://localhost:8080/"
        },
        "id": "zVpqKpI1-QCr",
        "outputId": "9ffdf1f6-237c-4934-ec99-ab9235ed0c72"
      },
      "execution_count": 9,
      "outputs": [
        {
          "output_type": "stream",
          "name": "stdout",
          "text": [
            "Overwriting random_agent.py\n"
          ]
        }
      ]
    },
    {
      "cell_type": "markdown",
      "source": [
        "\n",
        "Опишем поведение агента: \"Ножницы\"\n",
        "Этот агент всегда играет \"ножницы\""
      ],
      "metadata": {
        "id": "v3Tbmuy4_ZBt"
      }
    },
    {
      "cell_type": "code",
      "source": [
        "%%writefile scissors_agent.py\n",
        "def scissors_agent(observation, configuration):\n",
        "    return 2  # всегда играет \"ножницы\"\n"
      ],
      "metadata": {
        "colab": {
          "base_uri": "https://localhost:8080/"
        },
        "id": "iIq1by6p-Unz",
        "outputId": "08293ea2-cbec-4f14-ad1b-24324cb5b9ca"
      },
      "execution_count": 10,
      "outputs": [
        {
          "output_type": "stream",
          "name": "stdout",
          "text": [
            "Overwriting scissors_agent.py\n"
          ]
        }
      ]
    },
    {
      "cell_type": "markdown",
      "source": [
        "Опишем поведение агента: \"Чередующийся\"\n",
        "Этот агент чередует два действия"
      ],
      "metadata": {
        "id": "cf14hdxW_fPM"
      }
    },
    {
      "cell_type": "code",
      "source": [
        "%%writefile alternating_agent.py\n",
        "def alternating_agent(observation, configuration):\n",
        "    if observation.step == 0:\n",
        "        return random.randrange(0, configuration.signs)\n",
        "    return (observation.step % 2)\n",
        "\n"
      ],
      "metadata": {
        "colab": {
          "base_uri": "https://localhost:8080/"
        },
        "id": "oQYfhl5f-Yt6",
        "outputId": "420903d4-9eb3-41d0-ed7e-14d2a212d4ad"
      },
      "execution_count": 11,
      "outputs": [
        {
          "output_type": "stream",
          "name": "stdout",
          "text": [
            "Overwriting alternating_agent.py\n"
          ]
        }
      ]
    },
    {
      "cell_type": "markdown",
      "source": [
        "Теперь запустим турнир между нашими агентами."
      ],
      "metadata": {
        "id": "sLgcc13UVFgv"
      }
    },
    {
      "cell_type": "code",
      "source": [
        "# Список агентов для турнира\n",
        "agents = [\n",
        "    \"rock_agent.py\",\n",
        "    \"cyclic_agent.py\",\n",
        "    \"copy_opponent.py\",\n",
        "    \"paper_agent.py\",\n",
        "    \"reactionary_agent.py\",\n",
        "    \"opposite_agent.py\",\n",
        "    \"random_agent.py\",\n",
        "    \"scissors_agent.py\",\n",
        "    \"alternating_agent.py\"\n",
        "]\n",
        "\n",
        "# Количество игр для каждой пары агентов\n",
        "num_episodes = 100\n",
        "\n",
        "# Матрица результатов\n",
        "results = np.zeros((len(agents), len(agents)))\n",
        "\n",
        "# Проведение турнира\n",
        "for i in range(len(agents)):\n",
        "    for j in range(len(agents)):\n",
        "        if i != j:\n",
        "            # Запуск игр для агентов i и j\n",
        "            results[i, j] = evaluate(\n",
        "                \"rps\",\n",
        "                [agents[i], agents[j]],\n",
        "                configuration={\"episodeSteps\": num_episodes}\n",
        "            )[0][0]\n",
        "            results[j, i] = 1 - results[i, j]\n",
        "\n",
        "# Создание таблицы результатов\n",
        "results_df = pd.DataFrame(results, columns=agents, index=agents)\n",
        "print(results_df)\n",
        "\n",
        "# Визуализация результатов\n",
        "plt.figure(figsize=(8, 6))\n",
        "sns.heatmap(results_df, annot=True, cmap=\"YlGnBu\", fmt=\".2f\")\n",
        "plt.title(\"Результаты турнира RPS\")\n",
        "plt.xlabel(\"Агент 2\")\n",
        "plt.ylabel(\"Агент 1\")\n",
        "plt.show()\n"
      ],
      "metadata": {
        "colab": {
          "base_uri": "https://localhost:8080/",
          "height": 1000
        },
        "id": "FFBpAi4Z27AH",
        "outputId": "ceb474dd-f935-4913-fbff-188ee9969f4c"
      },
      "execution_count": 13,
      "outputs": [
        {
          "output_type": "stream",
          "name": "stdout",
          "text": [
            "                      rock_agent.py  cyclic_agent.py  copy_opponent.py  \\\n",
            "rock_agent.py                   0.0              1.0               NaN   \n",
            "cyclic_agent.py                 0.0              0.0               NaN   \n",
            "copy_opponent.py                NaN              NaN               0.0   \n",
            "paper_agent.py                 99.0              0.0               1.0   \n",
            "reactionary_agent.py            NaN              NaN               NaN   \n",
            "opposite_agent.py               NaN              NaN               NaN   \n",
            "random_agent.py                 NaN              NaN               NaN   \n",
            "scissors_agent.py             -99.0              0.0               1.0   \n",
            "alternating_agent.py            NaN              NaN               NaN   \n",
            "\n",
            "                      paper_agent.py  reactionary_agent.py  opposite_agent.py  \\\n",
            "rock_agent.py                  -98.0                   NaN                NaN   \n",
            "cyclic_agent.py                  1.0                   NaN                NaN   \n",
            "copy_opponent.py                 0.0                   NaN                NaN   \n",
            "paper_agent.py                   0.0                   NaN                NaN   \n",
            "reactionary_agent.py             NaN                   0.0                NaN   \n",
            "opposite_agent.py                NaN                   NaN                0.0   \n",
            "random_agent.py                  NaN                   NaN                NaN   \n",
            "scissors_agent.py               99.0                   1.0                1.0   \n",
            "alternating_agent.py             NaN                   NaN                NaN   \n",
            "\n",
            "                      random_agent.py  scissors_agent.py  alternating_agent.py  \n",
            "rock_agent.py                     NaN              100.0                   NaN  \n",
            "cyclic_agent.py                   NaN                1.0                   NaN  \n",
            "copy_opponent.py                  NaN                0.0                   NaN  \n",
            "paper_agent.py                    NaN              -98.0                   NaN  \n",
            "reactionary_agent.py              NaN                0.0                   NaN  \n",
            "opposite_agent.py                 NaN                0.0                   NaN  \n",
            "random_agent.py                   0.0                0.0                   NaN  \n",
            "scissors_agent.py                 1.0                0.0                   NaN  \n",
            "alternating_agent.py              NaN                NaN                   0.0  \n"
          ]
        },
        {
          "output_type": "display_data",
          "data": {
            "text/plain": [
              "<Figure size 800x600 with 2 Axes>"
            ],
            "image/png": "[encoded data removed]"
          },
          "metadata": {}
        }
      ]
    },
    {
      "cell_type": "markdown",
      "source": [
        "**Выводы:**\n",
        "\n",
        " * \"Одержимый камнем\" (rock_agent.py) -  проигрывает всем, кроме самого себя!  У него совсем плохие результаты, как видно из таблицы.\n",
        "\n",
        " * \"Циклический\" (cyclic_agent.py) -  средний игрок.  Он выигрывает у\n",
        " \"Одержимого камнем\" и \"Повторяющего противника\" (copy_opponent.py),  но проигрывает \"Повторяющему бумагу\" (paper_agent.py)  и  \"Ножницам\"  (scissors_agent.py).\n",
        "\n",
        " * \"Повторяющий противника\" (copy_opponent.py) -  проигрывает всем,  кроме самого себя.  Он  очень предсказуем и легко побеждается.\n",
        "\n",
        " * \"Повторяющий бумагу\" (paper_agent.py) -  лучший!  Он выигрывает у всех,  кроме самого себя  и  \"Ножниц\"  (scissors_agent.py).\n",
        "\n",
        " * \"Ножницы\" (scissors_agent.py) -  тоже лучший!  Он выигрывает у всех,  кроме самого себя  и  \"Бумаги\" (paper_agent.py).\n",
        "\n",
        " * \"Реактивный\" (reactionary_agent.py) -  средний игрок.  Он выигрывает у \"Ножниц\"  (scissors_agent.py)  и  \"Повторяющего бумагу\"  (paper_agent.py).\n",
        "\n",
        " * \"Противоположный\" (opposite_agent.py) -  средний игрок.  Он выигрывает у \"Ножниц\"  (scissors_agent.py), \"Повторяющего противника\"  (copy_opponent.py),  и  \"Повторяющего бумагу\" (paper_agent.py).\n",
        "\n",
        "* \"Случайный\" (random_agent.py) -  средний игрок.  Он непредсказуем,  но в итоге проигрывает \"Ножницам\"  (scissors_agent.py).\n",
        "\n",
        "* \"Переключающийся\" (alternating_agent.py) -  средний игрок.  Он выигрывает у \"Ножниц\" (scissors_agent.py).\n",
        "\n",
        "**Объяснение:**\n",
        "\n",
        "* \"Одержимый камнем\" (rock_agent.py) -  всегда выбирает \"камень\",  поэтому легко угадываем.\n",
        "\n",
        "* \"Циклический\" (cyclic_agent.py) -  предсказуемый.  Он циклически меняет свой ход  (камень-бумага-ножницы).\n",
        "\n",
        "* \"Повторяющий противника\" (copy_opponent.py) -  плохой!  Он начинает с случайного хода,  а потом всегда повторяет ход противника,  что делает его очень уязвимым.\n",
        "\n",
        "* \"Повторяющий бумагу\" (paper_agent.py) -  постоянно выбирает \"бумагу\",  что делает его очень сильным против \"камня\"  (rock_agent.py)  и  \"ножниц\"  (scissors_agent.py).\n",
        "\n",
        "* \"Ножницы\" (scissors_agent.py)  -  постоянно выбирает \"ножницы\",  что делает его очень сильным против \"бумаги\"  (paper_agent.py)  и  \"камня\" (rock_agent.py).\n",
        "\n",
        "* \"Реактивный\" (reactionary_agent.py) -  пытается предугадать ход противника,  основываясь на его предыдущем ходе,  но он не всегда угадывает.\n",
        "\n",
        "* \"Противоположный\" (opposite_agent.py) -  выбирает ход,  противоположный последнему ходу противника.\n",
        "\n",
        "* \"Случайный\" (random_agent.py) -  непредсказуем,  поэтому иногда может выиграть.\n",
        "\n",
        "* \"Переключающийся\" (alternating_agent.py) -  переключает ход между \"камнем\"  и  \"бумагой\".\n"
      ],
      "metadata": {
        "id": "th_Vjtiu52yU"
      }
    }
  ]
}