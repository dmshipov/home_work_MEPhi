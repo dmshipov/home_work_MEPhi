{
 "cells": [
  {
   "cell_type": "markdown",
   "metadata": {
    "id": "DQQFfNTLJ20S"
   },
   "source": [
    "# Задание 1"
   ]
  },
  {
   "cell_type": "code",
   "execution_count": 2,
   "metadata": {
    "id": "XqAzbM6WJyE2"
   },
   "outputs": [
    {
     "name": "stdout",
     "output_type": "stream",
     "text": [
      "(AxB)xC\n",
      "(AxB)xC\n"
     ]
    }
   ],
   "source": [
    "import numpy as np\n",
    "\n",
    "def multiplication_order(A, B, C):\n",
    "    \"\"\"\n",
    "    Определяет эффективный порядок умножения трех матриц A, B, C.\n",
    "\n",
    "    Args:\n",
    "        A: Первая матрица (NumPy array).\n",
    "        B: Вторая матрица (NumPy array).\n",
    "        C: Третья матрица (NumPy array).\n",
    "\n",
    "    Returns:\n",
    "        Строка \"(AxB)xC\" или \"Ax(BxC)\", указывающая на более эффективный порядок.\n",
    "    \"\"\"\n",
    "\n",
    "    # Проверка размерностей матриц (для корректного умножения)\n",
    "    if A.shape[1] != B.shape[0] or B.shape[1] != C.shape[0]:\n",
    "        raise ValueError(\"Матрицы нельзя перемножить в заданном порядке.\")\n",
    "\n",
    "    # Подсчет количества умножений для (AxB)xC\n",
    "    ops1 = A.shape[0] * B.shape[1] * A.shape[1] + A.shape[0] * C.shape[1] * B.shape[1]\n",
    "\n",
    "    # Подсчет количества умножений для Ax(BxC)\n",
    "    ops2 = B.shape[0] * C.shape[1] * B.shape[1] + A.shape[0] * C.shape[1] * A.shape[1]\n",
    "\n",
    "    if ops1 <= ops2:\n",
    "        return \"(AxB)xC\"\n",
    "    else:\n",
    "        return \"Ax(BxC)\"\n",
    "\n",
    "# Примеры:\n",
    "A = np.array([[1, 2]])\n",
    "B = np.array([[2], [1]])\n",
    "C = np.array([[5]])\n",
    "print(multiplication_order(A, B, C))\n",
    "\n",
    "A = np.array([[1, 2, 3], [4, 5, 6]])\n",
    "B = np.array([[7, 8], [9, 10], [11, 12]])\n",
    "C = np.array([[13, 14], [15, 16]])\n",
    "print(multiplication_order(A, B, C))"
   ]
  },
  {
   "cell_type": "markdown",
   "metadata": {
    "id": "vQvUEt_KKShX"
   },
   "source": [
    "# Задание 2\n"
   ]
  },
  {
   "cell_type": "code",
   "execution_count": 16,
   "metadata": {
    "id": "TMJq9ob2KYBY"
   },
   "outputs": [
    {
     "name": "stdout",
     "output_type": "stream",
     "text": [
      "Индекс признака с наибольшей корреляцией: 3\n",
      "Индекс признака с наименьшей корреляцией: 2\n"
     ]
    }
   ],
   "source": [
    "import numpy as np\n",
    "\n",
    "def best_worst(X, Y):\n",
    "    \"\"\"\n",
    "    Находит признаки, наиболее и наименее коррелирующие с ценой.\n",
    "\n",
    "    Args:\n",
    "        X: Матрица признаков (NumPy array).\n",
    "        Y: Вектор цен (NumPy array).\n",
    "\n",
    "    Returns:\n",
    "        Кортеж (max_corr_idx, min_corr_idx), где:\n",
    "            max_corr_idx - индекс признака с наибольшей корреляцией по модулю.\n",
    "            min_corr_idx - индекс признака с наименьшей корреляцией по модулю.\n",
    "    \"\"\"\n",
    "\n",
    "    correlation_matrix = np.corrcoef(np.column_stack((Y,X)), rowvar=False)\n",
    "    correlations = correlation_matrix[0, 1:] \n",
    "    abs_correlations = np.abs(correlations)\n",
    "\n",
    "\n",
    "    max_corr_idx = np.argmax(abs_correlations)\n",
    "    min_corr_idx = np.argmin(abs_correlations)\n",
    "\n",
    "    return (max_corr_idx, min_corr_idx)\n",
    "\n",
    "X = np.array([\n",
    "    [3, 51, 3, 0, 1, 0],\n",
    "    [1, 30, 1, 0, 1, 0],\n",
    "    [2, 45, 2, 0, 1, 0],\n",
    "    [3, 55, 1, 0, 1, 0],\n",
    "    [1, 45, 3, 1, 0, 0],\n",
    "    [3, 100, 3, 1, 0, 0],\n",
    "    [2, 71, 2, 1, 0, 0],\n",
    "    [1, 31, 2, 0, 0, 1],\n",
    "    [3, 53, 5, 0, 0, 1],\n",
    "    [1, 33, 3, 0, 0, 1],\n",
    "    [2, 43, 5, 0, 0, 1]\n",
    "])\n",
    "\n",
    "Y = np.array([2200, 1600, 1900, 2000, 4500, 7000, 5000, 1700, 2100, 1500, 2000])\n",
    "\n",
    "max_corr_idx, min_corr_idx = best_worst(X, Y)\n",
    "print(f\"Индекс признака с наибольшей корреляцией: {max_corr_idx}\")\n",
    "print(f\"Индекс признака с наименьшей корреляцией: {min_corr_idx}\")"
   ]
  },
  {
   "cell_type": "markdown",
   "metadata": {
    "id": "hindpJMCKhB8"
   },
   "source": [
    "# Задание 3\n"
   ]
  },
  {
   "cell_type": "code",
   "execution_count": 33,
   "metadata": {
    "id": "-YLajcsEKkuQ"
   },
   "outputs": [
    {
     "name": "stdout",
     "output_type": "stream",
     "text": [
      "Ранг корреляционной матрицы: 5\n"
     ]
    }
   ],
   "source": [
    "def corr_rank(X):\n",
    "    \"\"\"\n",
    "    Вычисляет ранг корреляционной матрицы.\n",
    "\n",
    "    Args:\n",
    "        X: Матрица признаков (NumPy array).\n",
    "\n",
    "    Returns:\n",
    "        Ранг корреляционной матрицы (целое число).\n",
    "    \"\"\"\n",
    "\n",
    "    correlation_matrix = np.corrcoef(X, rowvar=False) #rowvar=False because each column represents a feature\n",
    "    rank = np.linalg.matrix_rank(correlation_matrix)\n",
    "    return rank\n",
    "\n",
    "# Пример использования (с данными из условия задачи):\n",
    "X = np.array([\n",
    "    [3, 51, 3, 0, 1, 0],\n",
    "    [1, 30, 1, 0, 1, 0],\n",
    "    [2, 45, 2, 0, 1, 0],\n",
    "    [3, 55, 1, 0, 1, 0],\n",
    "    [1, 45, 3, 1, 0, 0],\n",
    "    [3, 100, 3, 1, 0, 0],\n",
    "    [2, 71, 2, 1, 0, 0],\n",
    "    [1, 31, 2, 0, 0, 1],\n",
    "    [3, 53, 5, 0, 0, 1],\n",
    "    [1, 33, 3, 0, 0, 1],\n",
    "    [2, 43, 5, 0, 0, 1]\n",
    "])\n",
    "\n",
    "rank = corr_rank(X)\n",
    "print(f\"Ранг корреляционной матрицы: {rank}\")"
   ]
  },
  {
   "cell_type": "markdown",
   "metadata": {
    "id": "tKweU9DCKk-f"
   },
   "source": [
    "# Задание 4"
   ]
  },
  {
   "cell_type": "code",
   "execution_count": 27,
   "metadata": {
    "id": "pi2fjbkjKmzi"
   },
   "outputs": [
    {
     "name": "stdout",
     "output_type": "stream",
     "text": [
      "[[-2.   1. ]\n",
      " [ 1.5 -0.5]]\n",
      "None\n",
      "None\n",
      "[[1. 0.]\n",
      " [0. 1.]]\n"
     ]
    }
   ],
   "source": [
    "def inverse_matrix(A):\n",
    "    \"\"\"\n",
    "    Вычисляет обратную матрицу, если она существует.\n",
    "\n",
    "    Args:\n",
    "        A: Квадратная матрица (NumPy array).\n",
    "\n",
    "    Returns:\n",
    "        Обратная матрица (NumPy array), если она существует, иначе None.\n",
    "    \"\"\"\n",
    "    try:\n",
    "        det = np.linalg.det(A)\n",
    "        if abs(det) < 0.001:\n",
    "            return None  # Матрица вырожденная, обратной не существует\n",
    "        else:\n",
    "            return np.linalg.inv(A)\n",
    "    except np.linalg.LinAlgError:\n",
    "        return None # Обратной матрицы не существует (например, неквадратная матрица)\n",
    "\n",
    "\n",
    "# Примеры\n",
    "A = np.array([[1, 2], [3, 4]])\n",
    "print(inverse_matrix(A))\n",
    "\n",
    "A = np.array([[1, 2], [2, 4]])\n",
    "print(inverse_matrix(A))\n",
    "\n",
    "A = np.array([[1, 2, 3], [4, 5, 6], [7, 8, 9]])\n",
    "print(inverse_matrix(A)) \n",
    "\n",
    "A = np.array([[1, 0], [0, 1]])\n",
    "print(inverse_matrix(A))"
   ]
  },
  {
   "cell_type": "markdown",
   "metadata": {
    "id": "pnIqMUVsKnTq"
   },
   "source": [
    "# Задание 5"
   ]
  },
  {
   "cell_type": "code",
   "execution_count": 30,
   "metadata": {
    "id": "g34wFIBuKpmL"
   },
   "outputs": [
    {
     "name": "stdout",
     "output_type": "stream",
     "text": [
      "Оптимальные коэффициенты a: [-574.12295766   65.33255763  141.80223878 1566.16246224   12.32450391\n",
      " -315.34552489]\n"
     ]
    }
   ],
   "source": [
    "def fit_model(X, y):\n",
    "    \"\"\"\n",
    "    Строит линейную модель методом OLS.\n",
    "\n",
    "    Args:\n",
    "        X: Матрица признаков (NumPy array) с формой (m, n).\n",
    "        y: Вектор цен (NumPy array) с формой (m,).\n",
    "\n",
    "    Returns:\n",
    "        Вектор коэффициентов a (NumPy array) с формой (n,).  Возвращает None, \n",
    "        если матрица XTX необратима.\n",
    "    \"\"\"\n",
    "    try:\n",
    "        XTX = np.dot(X.T, X)  #Вычисляем XTX\n",
    "        inv_XTX = np.linalg.inv(XTX) #Вычисляем обратную матрицу\n",
    "        a = np.dot(np.dot(inv_XTX, X.T), y) #Вычисляем коэффициенты\n",
    "        return a\n",
    "    except np.linalg.LinAlgError:\n",
    "        return None #Обратной матрицы не существует\n",
    "\n",
    "\n",
    "# Пример использования (с данными из условия задачи):\n",
    "X = np.array([\n",
    "    [3, 51, 3, 0, 1, 0],\n",
    "    [1, 30, 1, 0, 1, 0],\n",
    "    [2, 45, 2, 0, 1, 0],\n",
    "    [3, 55, 1, 0, 1, 0],\n",
    "    [1, 45, 3, 1, 0, 0],\n",
    "    [3, 100, 3, 1, 0, 0],\n",
    "    [2, 71, 2, 1, 0, 0],\n",
    "    [1, 31, 2, 0, 0, 1],\n",
    "    [3, 53, 5, 0, 0, 1],\n",
    "    [1, 33, 3, 0, 0, 1],\n",
    "    [2, 43, 5, 0, 0, 1]\n",
    "])\n",
    "y = np.array([2200, 1600, 1900, 2000, 4500, 7000, 5000, 1700, 2100, 1500, 2000])\n",
    "\n",
    "a = fit_model(X, y)\n",
    "\n",
    "if a is not None:\n",
    "    print(\"Оптимальные коэффициенты a:\", a)\n",
    "else:\n",
    "    print(\"Матрица XTX вырожденная, обратной матрицы не существует.\")\n",
    "\n"
   ]
  }
 ],
 "metadata": {
  "colab": {
   "provenance": []
  },
  "kernelspec": {
   "display_name": "Python 3 (ipykernel)",
   "language": "python",
   "name": "python3"
  },
  "language_info": {
   "codemirror_mode": {
    "name": "ipython",
    "version": 3
   },
   "file_extension": ".py",
   "mimetype": "text/x-python",
   "name": "python",
   "nbconvert_exporter": "python",
   "pygments_lexer": "ipython3",
   "version": "3.11.9"
  }
 },
 "nbformat": 4,
 "nbformat_minor": 4
}
