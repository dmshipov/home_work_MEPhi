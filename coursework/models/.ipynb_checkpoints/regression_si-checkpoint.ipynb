{
  "nbformat": 4,
  "nbformat_minor": 0,
  "metadata": {
    "colab": {
      "provenance": []
    },
    "kernelspec": {
      "name": "python3",
      "display_name": "Python 3"
    },
    "language_info": {
      "name": "python"
    }
  },
  "cells": [
    {
      "cell_type": "markdown",
      "source": [
        "Подготовка данных\n",
        "\n"
      ],
      "metadata": {
        "id": "PgKF4kCRdfRw"
      }
    },
    {
      "cell_type": "code",
      "source": [
        "import pandas as pd\n",
        "import numpy as np\n",
        "import matplotlib.pyplot as plt\n",
        "\n",
        "from sklearn.linear_model import Ridge, Lasso\n",
        "from sklearn.ensemble import RandomForestRegressor\n",
        "from xgboost import XGBRegressor\n",
        "from sklearn.model_selection import GridSearchCV\n",
        "from sklearn.metrics import mean_squared_error, mean_absolute_error, r2_score\n",
        "import warnings\n",
        "from sklearn.exceptions import ConvergenceWarning\n",
        "\n",
        "warnings.filterwarnings(\"ignore\", category=ConvergenceWarning)"
      ],
      "metadata": {
        "id": "C43S1KjRdltc"
      },
      "execution_count": 2,
      "outputs": []
    },
    {
      "cell_type": "markdown",
      "source": [
        "1: Подготовка данных"
      ],
      "metadata": {
        "id": "mtUqd1F3dvzJ"
      }
    },
    {
      "cell_type": "code",
      "execution_count": 3,
      "metadata": {
        "id": "fS22jb4ndZeR"
      },
      "outputs": [],
      "source": [
        "# Загрузка данных\n",
        "data = pd.read_csv('/content/chem_cleaned_data.csv')\n",
        "X = data.drop(columns=['IC50', 'CC50', 'SI', 'Unnamed: 0'], errors='ignore')\n",
        "y = data['SI']\n",
        "\n",
        "# Стандартизация признаков\n",
        "from sklearn.preprocessing import StandardScaler\n",
        "scaler = StandardScaler()\n",
        "X_scaled = scaler.fit_transform(X)\n",
        "\n",
        "# Train/test split\n",
        "from sklearn.model_selection import train_test_split\n",
        "X_train, X_test, y_train, y_test = train_test_split(\n",
        "    X_scaled, y, test_size=0.2, random_state=42\n",
        ")"
      ]
    },
    {
      "cell_type": "markdown",
      "source": [
        "2: Обучение базовых моделей"
      ],
      "metadata": {
        "id": "D8zzPI03duvh"
      }
    },
    {
      "cell_type": "code",
      "source": [
        "# Ridge\n",
        "ridge_params = {'alpha': [0.1, 1.0, 10.0, 100.0]}\n",
        "ridge_model = GridSearchCV(Ridge(), ridge_params, cv=5, scoring='neg_mean_squared_error')\n",
        "ridge_model.fit(X_train, y_train)\n",
        "y_pred_ridge = ridge_model.best_estimator_.predict(X_test)\n",
        "\n",
        "# Lasso\n",
        "lasso_params = {'alpha': [0.1, 1.0, 10.0]}\n",
        "lasso_model = GridSearchCV(Lasso(max_iter=50000), lasso_params, cv=5, scoring='neg_mean_squared_error')\n",
        "lasso_model.fit(X_train, y_train)\n",
        "y_pred_lasso = lasso_model.best_estimator_.predict(X_test)\n",
        "\n",
        "# Random Forest\n",
        "rf_params = {'n_estimators': [50, 100], 'max_depth': [None, 10, 20]}\n",
        "rf_model = GridSearchCV(RandomForestRegressor(random_state=42), rf_params, cv=3, scoring='neg_mean_squared_error')\n",
        "rf_model.fit(X_train, y_train)\n",
        "y_pred_rf = rf_model.best_estimator_.predict(X_test)\n",
        "\n",
        "# XGBoost\n",
        "xgb_params = {\n",
        "    'n_estimators': [50, 100],\n",
        "    'max_depth': [3, 5],\n",
        "    'learning_rate': [0.05, 0.1],\n",
        "    'subsample': [0.8, 1.0],\n",
        "    'colsample_bytree': [0.8, 1.0]\n",
        "}\n",
        "xgb_model = GridSearchCV(\n",
        "    XGBRegressor(objective='reg:squarederror', random_state=42),\n",
        "    xgb_params,\n",
        "    cv=3,\n",
        "    scoring='neg_mean_squared_error'\n",
        ")\n",
        "xgb_model.fit(X_train, y_train)\n",
        "y_pred_xgb = xgb_model.best_estimator_.predict(X_test)"
      ],
      "metadata": {
        "id": "HwumX_0DdrfL"
      },
      "execution_count": 4,
      "outputs": []
    },
    {
      "cell_type": "markdown",
      "source": [
        "3: Оценка качества моделей"
      ],
      "metadata": {
        "id": "TN7kbxlZdyTd"
      }
    },
    {
      "cell_type": "code",
      "source": [
        "def evaluate_model(y_true, y_pred, name):\n",
        "    rmse = np.sqrt(mean_squared_error(y_true, y_pred))\n",
        "    mae = mean_absolute_error(y_true, y_pred)\n",
        "    r2 = r2_score(y_true, y_pred)\n",
        "    print(f'{name}:\\n  RMSE = {rmse:.2f}\\n  MAE  = {mae:.2f}\\n  R^2  = {r2:.4f}\\n')\n",
        "\n",
        "evaluate_model(y_test, y_pred_ridge, 'Ridge (SI)')\n",
        "evaluate_model(y_test, y_pred_lasso, 'Lasso (SI)')\n",
        "evaluate_model(y_test, y_pred_rf, 'Random Forest (SI)')\n",
        "evaluate_model(y_test, y_pred_xgb, 'XGBoost (SI)')"
      ],
      "metadata": {
        "colab": {
          "base_uri": "https://localhost:8080/"
        },
        "id": "5RS-XiupdsfQ",
        "outputId": "eee80c80-eefe-4244-c403-681619bd99c4"
      },
      "execution_count": 5,
      "outputs": [
        {
          "output_type": "stream",
          "name": "stdout",
          "text": [
            "Ridge (SI):\n",
            "  RMSE = 1378.47\n",
            "  MAE  = 218.34\n",
            "  R^2  = 0.0594\n",
            "\n",
            "Lasso (SI):\n",
            "  RMSE = 1375.16\n",
            "  MAE  = 221.08\n",
            "  R^2  = 0.0639\n",
            "\n",
            "Random Forest (SI):\n",
            "  RMSE = 1350.50\n",
            "  MAE  = 198.64\n",
            "  R^2  = 0.0972\n",
            "\n",
            "XGBoost (SI):\n",
            "  RMSE = 1362.58\n",
            "  MAE  = 201.51\n",
            "  R^2  = 0.0809\n",
            "\n"
          ]
        }
      ]
    },
    {
      "cell_type": "markdown",
      "source": [
        "1: Отбор топ-50 признаков по важности XGBoost"
      ],
      "metadata": {
        "id": "2IJP97nNe4qj"
      }
    },
    {
      "cell_type": "code",
      "source": [
        "# Повторное обучение XGBoost для извлечения важностей\n",
        "xgb_si_importance = XGBRegressor(objective='reg:squarederror', random_state=42)\n",
        "xgb_si_importance.fit(X_train, y_train)\n",
        "\n",
        "# Извлекаем важности и отбираем топ-50\n",
        "importances_si = pd.Series(xgb_si_importance.feature_importances_, index=X.columns)\n",
        "top_50_si = importances_si.sort_values(ascending=False).head(50).index\n",
        "\n",
        "# Данные с выбранными признаками\n",
        "X_top_si = data[top_50_si]\n",
        "X_top_scaled_si = scaler.fit_transform(X_top_si)\n",
        "\n",
        "# Новый train/test\n",
        "X_train_top_si, X_test_top_si, y_train_top_si, y_test_top_si = train_test_split(\n",
        "    X_top_scaled_si, y, test_size=0.2, random_state=42\n",
        ")"
      ],
      "metadata": {
        "id": "mhPs_Yh2e1qP"
      },
      "execution_count": 6,
      "outputs": []
    },
    {
      "cell_type": "markdown",
      "source": [
        "2: Удаление коррелирующих признаков"
      ],
      "metadata": {
        "id": "gnSI0RY8e5pQ"
      }
    },
    {
      "cell_type": "code",
      "source": [
        "corr_matrix_si = pd.DataFrame(X_top_si, columns=top_50_si).corr().abs()\n",
        "upper = corr_matrix_si.where(np.triu(np.ones(corr_matrix_si.shape), k=1).astype(bool))\n",
        "to_drop_si = [col for col in upper.columns if any(upper[col] > 0.95)]\n",
        "\n",
        "X_top_refined_si = pd.DataFrame(X_top_si, columns=top_50_si).drop(columns=to_drop_si)\n",
        "X_top_refined_scaled_si = scaler.fit_transform(X_top_refined_si)\n",
        "\n",
        "# Обновляем выборки\n",
        "X_train_refined_si, X_test_refined_si, y_train_refined_si, y_test_refined_si = train_test_split(\n",
        "    X_top_refined_scaled_si, y, test_size=0.2, random_state=42\n",
        ")\n"
      ],
      "metadata": {
        "id": "juYEMUiKe6Qv"
      },
      "execution_count": 7,
      "outputs": []
    },
    {
      "cell_type": "markdown",
      "source": [
        "3: Обучение финальной модели"
      ],
      "metadata": {
        "id": "0ew5XPC2e7S1"
      }
    },
    {
      "cell_type": "code",
      "source": [
        "xgb_si_final = XGBRegressor(\n",
        "    n_estimators=150,\n",
        "    max_depth=4,\n",
        "    learning_rate=0.05,\n",
        "    subsample=0.9,\n",
        "    colsample_bytree=0.8,\n",
        "    gamma=1,\n",
        "    min_child_weight=3,\n",
        "    objective='reg:squarederror',\n",
        "    random_state=42\n",
        ")\n",
        "xgb_si_final.fit(X_train_refined_si, y_train_refined_si)\n",
        "y_pred_si_final = xgb_si_final.predict(X_test_refined_si)\n"
      ],
      "metadata": {
        "id": "-ai3yuqxe7-M"
      },
      "execution_count": 8,
      "outputs": []
    },
    {
      "cell_type": "markdown",
      "source": [
        "4: Оценка качества\n"
      ],
      "metadata": {
        "id": "_PbwrIBse807"
      }
    },
    {
      "cell_type": "code",
      "source": [
        "evaluate_model(y_test_refined_si, y_pred_si_final, 'XGBoost (SI, после оптимизации)')\n"
      ],
      "metadata": {
        "colab": {
          "base_uri": "https://localhost:8080/"
        },
        "id": "AREVXtdhfA3d",
        "outputId": "509fddec-05d9-4bbf-adff-bb024fb57dab"
      },
      "execution_count": 10,
      "outputs": [
        {
          "output_type": "stream",
          "name": "stdout",
          "text": [
            "XGBoost (SI, после оптимизации):\n",
            "  RMSE = 1355.69\n",
            "  MAE  = 196.06\n",
            "  R^2  = 0.0902\n",
            "\n"
          ]
        }
      ]
    },
    {
      "cell_type": "code",
      "source": [
        "plt.figure(figsize=(8, 6))\n",
        "plt.scatter(y_test_refined_si, y_pred_si_final, alpha=0.5, edgecolors='k')\n",
        "plt.plot([y_test_refined_si.min(), y_test_refined_si.max()],\n",
        "         [y_test_refined_si.min(), y_test_refined_si.max()],\n",
        "         'r--', linewidth=2)\n",
        "plt.xlabel('Реальные значения SI')\n",
        "plt.ylabel('Предсказанные значения SI')\n",
        "plt.title('XGBoost (финальная модель SI)')\n",
        "plt.grid(True)\n",
        "plt.tight_layout()\n",
        "plt.show()\n"
      ],
      "metadata": {
        "colab": {
          "base_uri": "https://localhost:8080/",
          "height": 607
        },
        "id": "AgHAdp5RfB29",
        "outputId": "2f0357dd-563e-4229-e493-fc80c9a6b870"
      },
      "execution_count": 11,
      "outputs": [
        {
          "output_type": "display_data",
          "data": {
            "text/plain": [
              "<Figure size 800x600 with 1 Axes>"
            ],
            "image/png": "[encoded data removed]"
          },
          "metadata": {}
        }
      ]
    }
  ]
}